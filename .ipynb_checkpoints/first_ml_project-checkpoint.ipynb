{
 "cells": [
  {
   "cell_type": "code",
   "execution_count": 4,
   "id": "56de1f1e",
   "metadata": {},
   "outputs": [],
   "source": [
    "import sys\n",
    "# this is how we shall install packages in these notebooks\n",
    "# !{sys.executable} -m pip install <package_name>\n",
    "# !{sys.executable} -m pip install numpy\n",
    "\n",
    "import pandas as pd\n",
    "import joblib\n",
    "import numpy as np\n",
    "from sklearn.model_selection import train_test_split\n",
    "from sklearn import ensemble\n",
    "from sklearn.metrics import mean_absolute_error\n",
    "from sklearn.linear_model import LinearRegression\n",
    "from numpy import ndarray as array\n",
    "\n",
    "# from sklearn.externals import joblib"
   ]
  },
  {
   "cell_type": "code",
   "execution_count": 5,
   "id": "468e73a4",
   "metadata": {},
   "outputs": [],
   "source": [
    "x = np.array([5, 15, 25, 35, 45, 55]).reshape((-1, 1))\n",
    "y = np.array([5, 20, 14, 32, 22, 38])\n",
    "\n",
    "model = LinearRegression()\n",
    "model.fit(x, y)\n",
    "\n",
    "# get the value of the coefficient(r_squared) which can tell you how well the model is fitting your data\n",
    "r_squared = model.score(x, y)\n",
    "print(f\"the coefficient is{r_squared}.\")\n",
    "\n",
    "# you can also get the y-interecpt and the slope\n",
    "y_intercept = model.intercept_\n",
    "print(f\"the y-intercept is {y_intercept})\n",
    "      \n",
    "slope = model.coef_\n",
    "print(f\"the slope is {slope}\")\n",
    "      \n",
    "# and now to make your first prediction\n",
    "      \n",
    "\n",
    "    "
   ]
  },
  {
   "cell_type": "code",
   "execution_count": 21,
   "id": "f88578f3",
   "metadata": {},
   "outputs": [
    {
     "data": {
      "text/plain": [
       "array([ 8.33333333, 13.73333333, 19.13333333, 24.53333333, 29.93333333,\n",
       "       35.33333333])"
      ]
     },
     "execution_count": 21,
     "metadata": {},
     "output_type": "execute_result"
    }
   ],
   "source": [
    "first_prediction = model.predict(x)\n",
    "first_prediction"
   ]
  },
  {
   "cell_type": "code",
   "execution_count": null,
   "id": "f71bf000",
   "metadata": {},
   "outputs": [],
   "source": []
  }
 ],
 "metadata": {
  "kernelspec": {
   "display_name": "Python 3 (ipykernel)",
   "language": "python",
   "name": "python3"
  },
  "language_info": {
   "codemirror_mode": {
    "name": "ipython",
    "version": 3
   },
   "file_extension": ".py",
   "mimetype": "text/x-python",
   "name": "python",
   "nbconvert_exporter": "python",
   "pygments_lexer": "ipython3",
   "version": "3.10.6"
  }
 },
 "nbformat": 4,
 "nbformat_minor": 5
}
