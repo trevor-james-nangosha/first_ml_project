{
 "cells": [
  {
   "cell_type": "code",
   "execution_count": 1,
   "id": "56de1f1e",
   "metadata": {},
   "outputs": [],
   "source": [
    "import sys\n",
    "# this is how we shall install packages in these notebooks\n",
    "# !{sys.executable} -m pip install <package_name>\n",
    "# !{sys.executable} -m pip install numpy\n",
    "# !{sys.executable} -m pip install seaborn\n",
    "\n",
    "import pandas as pd\n",
    "import joblib\n",
    "import numpy as np\n",
    "from sklearn.model_selection import train_test_split\n",
    "from sklearn import ensemble\n",
    "from sklearn.metrics import mean_absolute_error\n",
    "from sklearn.linear_model import LinearRegression\n",
    "from numpy import ndarray as array\n",
    "\n",
    "# from sklearn.externals import joblib"
   ]
  },
  {
   "cell_type": "code",
   "execution_count": null,
   "id": "bafd36c4",
   "metadata": {},
   "outputs": [],
   "source": [
    "# -------------------------------------- REGRESSION ----------------------------------------------------------"
   ]
  },
  {
   "cell_type": "code",
   "execution_count": 11,
   "id": "f2d9652c",
   "metadata": {},
   "outputs": [],
   "source": [
    "# this is the hello world of machine learning. learn it by heart"
   ]
  },
  {
   "cell_type": "code",
   "execution_count": 3,
   "id": "ac6735ec",
   "metadata": {},
   "outputs": [],
   "source": [
    "# this is just a personal function. don't take it seriously\n",
    "\n",
    "def get_model_details(model):\n",
    "    # get the value of the coefficient(r_squared) which can tell you how well the model is fitting your data\n",
    "    r_squared = model.score(x, y)\n",
    "    print(f\"the coefficient r_squared is {r_squared}.\")\n",
    "\n",
    "    # you can also get the y-interecpt and the slope\n",
    "    y_intercept = model.intercept_\n",
    "    print(f\"the y-intercept is {y_intercept}\")\n",
    "\n",
    "    slope = model.coef_\n",
    "    print(f\"the slope is {slope}\")"
   ]
  },
  {
   "cell_type": "code",
   "execution_count": 9,
   "id": "ce1cdef8",
   "metadata": {
    "scrolled": true
   },
   "outputs": [
    {
     "name": "stdout",
     "output_type": "stream",
     "text": [
      "the coefficient r_squared is 0.7158756137479542.\n",
      "the y-intercept is 5.633333333333329\n",
      "the slope is [0.54]\n",
      "\n",
      "First linear prediction:\n",
      "[ 8.33333333 13.73333333 19.13333333 24.53333333 29.93333333 35.33333333]\n",
      "\n",
      "Second linear prediction:\n",
      "[ 9.41333333  9.95333333 10.49333333 11.03333333 11.57333333 12.11333333]\n",
      "\n",
      "Third linear prediction:\n",
      "[6.17333333 6.71333333 7.25333333 7.79333333 8.33333333 8.87333333]\n"
     ]
    }
   ],
   "source": [
    "# USING A SIMPLE LINEAR REGRESSION MODEL\n",
    "\n",
    "x = np.array([5, 15, 25, 35, 45, 55]).reshape((-1, 1))\n",
    "y = np.array([5, 20, 14, 32, 22, 38])\n",
    "test_one = np.array([7, 8, 9, 10, 11, 12]).reshape((-1, 1))\n",
    "test_two = np.array([1, 2, 3, 4, 5, 6]).reshape((-1, 1))\n",
    "\n",
    "# you need to fit the model before you can use it, otherwise you will get an error.\n",
    "model = LinearRegression().fit(x, y)\n",
    "\n",
    "get_model_details(model) \n",
    "\n",
    "# and now to make your first prediction\n",
    "first_prediction = model.predict(x)\n",
    "second_prediction = model.predict(test_one)\n",
    "third_prediction = model.predict(test_two)\n",
    "\n",
    "print(f\"\\nFirst linear prediction:\\n{first_prediction}\")\n",
    "print(f\"\\nSecond linear prediction:\\n{second_prediction}\")\n",
    "print(f\"\\nThird linear prediction:\\n{third_prediction}\")\n",
    "    "
   ]
  },
  {
   "cell_type": "code",
   "execution_count": 46,
   "id": "9b7a125b",
   "metadata": {},
   "outputs": [
    {
     "name": "stdout",
     "output_type": "stream",
     "text": [
      "the coefficient r_squared is 0.8615939258756776.\n",
      "the y-intercept is 5.52257927519819\n",
      "the slope is [0.44706965 0.25502548]\n",
      "\n",
      "First multi-linear prediction:\n",
      "[ 5.77760476  8.012953   12.73867497 17.9744479  23.97529728 29.4660957\n",
      " 38.78227633 41.27265006]\n"
     ]
    }
   ],
   "source": [
    "# USING MULTIPLE LINEAR REGRESSION(NOTHING REALLY DIFFERENT...............)\n",
    "\n",
    "x = [\n",
    "        [0, 1], [5, 1], [15, 2], [25, 5], [35, 11], [45, 15], [55, 34], [60, 35]\n",
    "    ]\n",
    "y = [4, 5, 20, 14, 32, 22, 38, 43]\n",
    "x, y = np.array(x), np.array(y)\n",
    "\n",
    "second_model = LinearRegression().fit(x, y)\n",
    "get_model_details(second_model)\n",
    "\n",
    "multi_prediction = second_model.predict(x)\n",
    "print(f\"\\nFirst multi-linear prediction:\\n{multi_prediction}\")\n",
    "    "
   ]
  },
  {
   "cell_type": "code",
   "execution_count": 47,
   "id": "a63499a1",
   "metadata": {},
   "outputs": [],
   "source": [
    "# .............sometime later, look at polynomial regression"
   ]
  },
  {
   "cell_type": "code",
   "execution_count": null,
   "id": "0c398c74",
   "metadata": {},
   "outputs": [],
   "source": [
    "# -------------------------------------------------------------------------------------------------------------"
   ]
  }
 ],
 "metadata": {
  "kernelspec": {
   "display_name": "Python 3 (ipykernel)",
   "language": "python",
   "name": "python3"
  },
  "language_info": {
   "codemirror_mode": {
    "name": "ipython",
    "version": 3
   },
   "file_extension": ".py",
   "mimetype": "text/x-python",
   "name": "python",
   "nbconvert_exporter": "python",
   "pygments_lexer": "ipython3",
   "version": "3.10.6"
  }
 },
 "nbformat": 4,
 "nbformat_minor": 5
}
